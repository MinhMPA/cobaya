{
 "cells": [
  {
   "cell_type": "markdown",
   "id": "82034e97-cf1c-4fc9-bd71-f79c50d9da78",
   "metadata": {},
   "source": [
    "##### **Compute deltaL/Neff eBOSS**\n",
    "\n",
    "The (cosmological) parameters reported in Column 2 of Table 7 of the eBOSS paper are\n",
    "* $\\sigma_8=0.820$\n",
    "* $n_s=0.955$\n",
    "* $\\Omega_m=0.269$\n",
    "* $H_0=67.1~{\\rm km/s/Mpc}$"
   ]
  },
  {
   "cell_type": "code",
   "execution_count": 1,
   "id": "aa867c29-5a06-4de0-84a8-d6093a63cba9",
   "metadata": {},
   "outputs": [
    {
     "name": "stdout",
     "output_type": "stream",
     "text": [
      "Delta_L^2: 0.313242\n",
      "Neff: -2.337901\n"
     ]
    }
   ],
   "source": [
    "from classy import Class\n",
    "\n",
    "# Set parameter dictionary \n",
    "Omega_b = 0.048\n",
    "eBOSS_param_dict = {'Omega_cdm': 0.269-Omega_b, 'Omega_b':Omega_b, 'sigma8': 0.820,\n",
    "                    'n_s':0.955, 'h': 0.671, 'N_ncdm': 0, 'N_ur': 3.046}  \n",
    "\n",
    "cosmo_eBOSS = Class()\n",
    "cosmo_eBOSS.set(eBOSS_param_dict)\n",
    "cosmo_eBOSS.set({'output': 'mPk', 'P_k_max_h/Mpc': 20, 'z_max_pk': 4.0})\n",
    "cosmo_eBOSS.compute()\n",
    "\n",
    "deltaP, Neff = cosmo_eBOSS.delta_P_neff()\n",
    "print(\"Delta_L^2: {:3f}\".format(deltaP))\n",
    "print(\"Neff: {:3f}\".format(Neff))"
   ]
  },
  {
   "cell_type": "code",
   "execution_count": null,
   "id": "17e6fd30-5cbe-442f-b22e-c4af35b16288",
   "metadata": {},
   "outputs": [],
   "source": []
  }
 ],
 "metadata": {
  "kernelspec": {
   "display_name": "Python 3 (ipykernel)",
   "language": "python",
   "name": "python3"
  },
  "language_info": {
   "codemirror_mode": {
    "name": "ipython",
    "version": 3
   },
   "file_extension": ".py",
   "mimetype": "text/x-python",
   "name": "python",
   "nbconvert_exporter": "python",
   "pygments_lexer": "ipython3",
   "version": "3.9.12"
  }
 },
 "nbformat": 4,
 "nbformat_minor": 5
}
